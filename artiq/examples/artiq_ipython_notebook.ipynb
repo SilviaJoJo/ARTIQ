{
 "cells": [
  {
   "cell_type": "code",
   "execution_count": 19,
   "metadata": {},
   "outputs": [],
   "source": [
    "# How to run this notebook:\n",
    "# 1. Install artiq (ARTIQ is installed in the nix shell)\n",
    "# 2. Add neceddary packages (Jupyter, computational, etc.) to the flake.nix under the artiq folder\n",
    "# 2. Run `nix develop` to activate the shell under the artiq folder\n",
    "# 3. Run 'jupyter notebook' in the terminal under the artiq folder\n",
    "# 4. Copy the url and use it to connect the notebook to the kernel\n",
    "# 5. Run this notebook cells one by one"
   ]
  },
  {
   "cell_type": "code",
   "execution_count": 20,
   "metadata": {
    "collapsed": false
   },
   "outputs": [],
   "source": [
    "%matplotlib inline\n",
    "\n",
    "import os\n",
    "import logging\n",
    "import time\n",
    "import asyncio\n",
    "import datetime\n",
    "import glob\n",
    "from pprint import pprint\n",
    "\n",
    "import numpy as np\n",
    "np.set_printoptions(precision=3)\n",
    "import matplotlib.pyplot as plt\n",
    "import seaborn\n",
    "seaborn.set_style(\"whitegrid\")\n",
    "import pandas as pd\n",
    "import h5py\n",
    "\n",
    "from sipyco.pc_rpc import (Client, AsyncioClient,\n",
    "                           BestEffortClient, AutoTarget)\n",
    "from artiq.master.databases import DeviceDB\n",
    "from artiq.master.worker_db import DeviceManager"
   ]
  },
  {
   "cell_type": "code",
   "execution_count": 21,
   "metadata": {},
   "outputs": [
    {
     "name": "stdout",
     "output_type": "stream",
     "text": [
      "Available kernels:\n",
      "  python3    /nix/store/1kfp16ilmj7d75r9qwjx78a89j2wlqf0-python3-3.12.6-env/lib/python3.12/site-packages/ipykernel/resources\n"
     ]
    }
   ],
   "source": [
    "# Check if ipykernel is already installed   \n",
    "# ! is used to run the command in the notebook cell\n",
    "!jupyter kernelspec list"
   ]
  },
  {
   "cell_type": "code",
   "execution_count": 22,
   "metadata": {},
   "outputs": [],
   "source": [
    "# Install ipykernel (for the first time only)\n",
    "# !python -m pip install ipykernel -U --user --force-reinstall"
   ]
  },
  {
   "cell_type": "code",
   "execution_count": 23,
   "metadata": {},
   "outputs": [
    {
     "name": "stdout",
     "output_type": "stream",
     "text": [
      "Current working directory: /home/silviajojo/ARTIQ/my-artiq-project/artiq/run\n"
     ]
    }
   ],
   "source": [
    "import os\n",
    "print(\"Current working directory:\", os.getcwd())"
   ]
  },
  {
   "cell_type": "code",
   "execution_count": 24,
   "metadata": {},
   "outputs": [
    {
     "name": "stdout",
     "output_type": "stream",
     "text": [
      "Contents of current directory: []\n"
     ]
    }
   ],
   "source": [
    "print(\"Contents of current directory:\", os.listdir())"
   ]
  },
  {
   "cell_type": "code",
   "execution_count": 25,
   "metadata": {},
   "outputs": [],
   "source": [
    "# Create a new directory for the notebook\n",
    "!mkdir -p ~/ARTIQ/my-artiq-project/artiq/run/\n",
    "# Change the working directory to the new directory"
   ]
  },
  {
   "cell_type": "code",
   "execution_count": 17,
   "metadata": {
    "collapsed": false
   },
   "outputs": [],
   "source": [
    "# move to a location where we have our artiq setup\n",
    "os.chdir(os.path.expanduser(\"~/ARTIQ/my-artiq-project/artiq/run\"))"
   ]
  },
  {
   "cell_type": "code",
   "execution_count": 36,
   "metadata": {},
   "outputs": [],
   "source": [
    "device_db_path = os.path.expanduser(\"~/ARTIQ/my-artiq-project/artiq/artiq/examples/no_hardware/device_db.py\")\n",
    "if os.path.exists(device_db_path):\n",
    "    ddb = DeviceDB(device_db_path)\n",
    "else:\n",
    "    print(f\"Error: device_db.py not found at {device_db_path}\")"
   ]
  },
  {
   "cell_type": "code",
   "execution_count": 37,
   "metadata": {},
   "outputs": [
    {
     "name": "stderr",
     "output_type": "stream",
     "text": [
      "first connection attempt to ::1:3253[<class 'sipyco.pc_rpc.AutoTarget'>] failed, retrying in the background\n",
      "Traceback (most recent call last):\n",
      "  File \"/nix/store/1kfp16ilmj7d75r9qwjx78a89j2wlqf0-python3-3.12.6-env/lib/python3.12/site-packages/sipyco/pc_rpc.py\", line 323, in __init__\n",
      "    self.__coninit(firstcon_timeout)\n",
      "  File \"/nix/store/1kfp16ilmj7d75r9qwjx78a89j2wlqf0-python3-3.12.6-env/lib/python3.12/site-packages/sipyco/pc_rpc.py\", line 338, in __coninit\n",
      "    self.__socket = socket.create_connection(\n",
      "                    ^^^^^^^^^^^^^^^^^^^^^^^^^\n",
      "  File \"/nix/store/wfbjq35kxs6x83c3ncpfxdyl5gbhdx4h-python3-3.12.6/lib/python3.12/socket.py\", line 865, in create_connection\n",
      "    raise exceptions[0]\n",
      "  File \"/nix/store/wfbjq35kxs6x83c3ncpfxdyl5gbhdx4h-python3-3.12.6/lib/python3.12/socket.py\", line 850, in create_connection\n",
      "    sock.connect(sa)\n",
      "ConnectionRefusedError: [Errno 111] Connection refused\n"
     ]
    },
    {
     "name": "stdout",
     "output_type": "stream",
     "text": [
      "LDA device reference obtained\n",
      "Error setting attenuation: \n"
     ]
    }
   ],
   "source": [
    "# First, let's check if we can even get the device\n",
    "try:\n",
    "    devmgr = DeviceManager(ddb)\n",
    "    lda = devmgr.get(\"lda\")\n",
    "    print(\"LDA device reference obtained\")\n",
    "except Exception as e:\n",
    "    print(f\"Error getting LDA device: {e}\")\n",
    "\n",
    "# Then try to set attenuation with error handling\n",
    "try:\n",
    "    lda.set_attenuation(42)\n",
    "    print(\"Attenuation set successfully\")\n",
    "except Exception as e:\n",
    "    print(f\"Error setting attenuation: {e}\")"
   ]
  },
  {
   "cell_type": "code",
   "execution_count": 35,
   "metadata": {
    "collapsed": false
   },
   "outputs": [
    {
     "name": "stderr",
     "output_type": "stream",
     "text": [
      "first connection attempt to ::1:3253[<class 'sipyco.pc_rpc.AutoTarget'>] failed, retrying in the background\n",
      "Traceback (most recent call last):\n",
      "  File \"/nix/store/1kfp16ilmj7d75r9qwjx78a89j2wlqf0-python3-3.12.6-env/lib/python3.12/site-packages/sipyco/pc_rpc.py\", line 323, in __init__\n",
      "    self.__coninit(firstcon_timeout)\n",
      "  File \"/nix/store/1kfp16ilmj7d75r9qwjx78a89j2wlqf0-python3-3.12.6-env/lib/python3.12/site-packages/sipyco/pc_rpc.py\", line 338, in __coninit\n",
      "    self.__socket = socket.create_connection(\n",
      "                    ^^^^^^^^^^^^^^^^^^^^^^^^^\n",
      "  File \"/nix/store/wfbjq35kxs6x83c3ncpfxdyl5gbhdx4h-python3-3.12.6/lib/python3.12/socket.py\", line 865, in create_connection\n",
      "    raise exceptions[0]\n",
      "  File \"/nix/store/wfbjq35kxs6x83c3ncpfxdyl5gbhdx4h-python3-3.12.6/lib/python3.12/socket.py\", line 850, in create_connection\n",
      "    sock.connect(sa)\n",
      "ConnectionRefusedError: [Errno 111] Connection refused\n"
     ]
    },
    {
     "ename": "AttributeError",
     "evalue": "",
     "output_type": "error",
     "traceback": [
      "\u001b[0;31m---------------------------------------------------------------------------\u001b[0m",
      "\u001b[0;31mAttributeError\u001b[0m                            Traceback (most recent call last)",
      "Cell \u001b[0;32mIn[35], line 9\u001b[0m\n\u001b[1;32m      7\u001b[0m devmgr \u001b[38;5;241m=\u001b[39m DeviceManager(ddb)\n\u001b[1;32m      8\u001b[0m lda \u001b[38;5;241m=\u001b[39m devmgr\u001b[38;5;241m.\u001b[39mget(\u001b[38;5;124m\"\u001b[39m\u001b[38;5;124mlda\u001b[39m\u001b[38;5;124m\"\u001b[39m)\n\u001b[0;32m----> 9\u001b[0m \u001b[43mlda\u001b[49m\u001b[38;5;241;43m.\u001b[39;49m\u001b[43mset_attenuation\u001b[49m(\u001b[38;5;241m42\u001b[39m)\n\u001b[1;32m     10\u001b[0m \u001b[38;5;28;01massert\u001b[39;00m lda\u001b[38;5;241m.\u001b[39mget_attenuation() \u001b[38;5;241m==\u001b[39m \u001b[38;5;241m42\u001b[39m\n\u001b[1;32m     12\u001b[0m \u001b[38;5;66;03m# ... or we can wire it up ourselves if you know where it is\u001b[39;00m\n",
      "File \u001b[0;32m/nix/store/1kfp16ilmj7d75r9qwjx78a89j2wlqf0-python3-3.12.6-env/lib/python3.12/site-packages/sipyco/pc_rpc.py:421\u001b[0m, in \u001b[0;36mBestEffortClient.__getattr__\u001b[0;34m(self, name)\u001b[0m\n\u001b[1;32m    419\u001b[0m \u001b[38;5;28;01mdef\u001b[39;00m \u001b[38;5;21m__getattr__\u001b[39m(\u001b[38;5;28mself\u001b[39m, name):\n\u001b[1;32m    420\u001b[0m     \u001b[38;5;28;01mif\u001b[39;00m name \u001b[38;5;129;01mnot\u001b[39;00m \u001b[38;5;129;01min\u001b[39;00m \u001b[38;5;28mself\u001b[39m\u001b[38;5;241m.\u001b[39m__valid_methods:\n\u001b[0;32m--> 421\u001b[0m         \u001b[38;5;28;01mraise\u001b[39;00m \u001b[38;5;167;01mAttributeError\u001b[39;00m\n\u001b[1;32m    423\u001b[0m     \u001b[38;5;28;01mdef\u001b[39;00m \u001b[38;5;21mproxy\u001b[39m(\u001b[38;5;241m*\u001b[39margs, \u001b[38;5;241m*\u001b[39m\u001b[38;5;241m*\u001b[39mkwargs):\n\u001b[1;32m    424\u001b[0m         \u001b[38;5;28;01mreturn\u001b[39;00m \u001b[38;5;28mself\u001b[39m\u001b[38;5;241m.\u001b[39m__do_rpc(name, args, kwargs)\n",
      "\u001b[0;31mAttributeError\u001b[0m: "
     ]
    }
   ],
   "source": [
    "# 4. Verify that the attenuation was set correctly\n",
    "assert lda.get_attenuation() == 42\n",
    "\n",
    "# ... or we can wire it up ourselves if you know where it is\n",
    "assert ddb.get(\"lda\", resolve_alias=True)[\"host\"] == \"::1\"\n",
    "assert ddb.get(\"lda\", resolve_alias=True)[\"port\"] == 3253\n",
    "\n",
    "# there are different Client types tailored to different use cases:\n",
    "\n",
    "# synchronous\n",
    "lda = Client(\"::1\", 3253)\n",
    "assert lda.get_attenuation() == 42\n",
    "\n",
    "# asyncio\n",
    "lda = AsyncioClient()\n",
    "async def test_lda():\n",
    "    await lda.connect_rpc(\"::1\", 3253, AutoTarget)\n",
    "    return await lda.get_attenuation()\n",
    "assert asyncio.get_event_loop().run_until_complete(test_lda()) == 42\n",
    "\n",
    "# best effort\n",
    "lda = BestEffortClient(\"::1\", 3253, AutoTarget)\n",
    "assert lda.get_attenuation() == 42"
   ]
  },
  {
   "cell_type": "code",
   "execution_count": null,
   "metadata": {
    "collapsed": false
   },
   "outputs": [],
   "source": [
    "# let's connect to the master\n",
    "\n",
    "schedule, exps, datasets = [\n",
    "    Client(\"::1\", 3251, i) for i in\n",
    "    \"schedule experiment_db dataset_db\".split()]\n",
    "\n",
    "print(\"current schedule\")\n",
    "pprint(schedule.get_status())\n",
    "print(\"experiments:\")\n",
    "pprint(exps.list_directory(\"repository\"))"
   ]
  },
  {
   "cell_type": "code",
   "execution_count": null,
   "metadata": {
    "collapsed": false
   },
   "outputs": [],
   "source": [
    "# we can submit experiments to be run\n",
    "\n",
    "expid = dict(\n",
    "    file=\"repository/flopping_f_simulation.py\",\n",
    "    class_name=\"FloppingF\",\n",
    "    log_level=logging.WARNING,\n",
    "    arguments=dict(\n",
    "        F0=1500,\n",
    "        noise_amplitude=.3,\n",
    "    ),\n",
    ")\n",
    "if not schedule.get_status():\n",
    "    rid = schedule.submit(pipeline_name=\"main\", expid=expid,\n",
    "        priority=0, due_date=None, flush=False)\n",
    "print(\"current schedule\")\n",
    "pprint(schedule.get_status())"
   ]
  },
  {
   "cell_type": "code",
   "execution_count": 7,
   "metadata": {
    "collapsed": false
   },
   "outputs": [],
   "source": [
    "# wait for experiment to finish\n",
    "# this can be written nicer by subscribing and reacting to scheduler changes\n",
    "while rid in schedule.get_status():\n",
    "    time.sleep(.1)"
   ]
  },
  {
   "cell_type": "code",
   "execution_count": null,
   "metadata": {
    "collapsed": false
   },
   "outputs": [],
   "source": [
    "# now that the experiment has completed, we can get the\n",
    "# current value of the (live) dataset and plot it\n",
    "# had we done this earlier, the dataset would have been incomplete\n",
    "fig, ax = plt.subplots()\n",
    "d = datasets.get(\"flopping_f_brightness\")\n",
    "ax.plot(d)\n",
    "print(\"flopping_f:\", datasets.get(\"flopping_freq\"))"
   ]
  },
  {
   "cell_type": "code",
   "execution_count": 9,
   "metadata": {
    "collapsed": false
   },
   "outputs": [],
   "source": [
    "# this is how you would clear all pipelines\n",
    "for i in schedule.get_status():\n",
    "    schedule.delete(i)"
   ]
  },
  {
   "cell_type": "code",
   "execution_count": null,
   "metadata": {
    "collapsed": false
   },
   "outputs": [],
   "source": [
    "# we can easily find and use the data that was saved as part\n",
    "# of the experiment\n",
    "\n",
    "t = datetime.datetime.now()\n",
    "f = os.path.join(\n",
    "    \"results\", t.strftime(\"%Y-%m-%d\"), #t.strftime(\"%H-%M\"),\n",
    "    \"*\", \"{:09d}-FloppingF.h5\".format(rid))\n",
    "\n",
    "# we would usually like to use pandas but our data does not have\n",
    "# the metadata pandas want\n",
    "#d = pd.HDFStore(glob.glob(f)[0])\n",
    "\n",
    "with h5py.File(glob.glob(f)[0]) as f:\n",
    "    print(\"available datasets\", list(f))\n",
    "    assert np.allclose(f[\"datasets/flopping_f_brightness\"], d)"
   ]
  },
  {
   "cell_type": "code",
   "execution_count": null,
   "metadata": {
    "collapsed": false
   },
   "outputs": [],
   "source": [
    "%%writefile repository/notebook_test.py\n",
    "\n",
    "# we can also write experiments in the notebook and submit them\n",
    "# we don't have submit-by-content yet (and there would be questions\n",
    "# about other modules that would need to be imported) so we just export\n",
    "# this cell and submit it by filename\n",
    "\n",
    "from artiq.experiment import *\n",
    "\n",
    "class Hello(EnvExperiment):\n",
    "    def build(self):\n",
    "        pass\n",
    "    \n",
    "    def run(self):\n",
    "        print(\"Hello world!\")"
   ]
  },
  {
   "cell_type": "code",
   "execution_count": null,
   "metadata": {
    "collapsed": false
   },
   "outputs": [],
   "source": [
    "expid = dict(\n",
    "    file=\"repository/notebook_test.py\",\n",
    "    class_name=\"Hello\",\n",
    "    log_level=logging.WARNING,\n",
    "    arguments=dict(),\n",
    ")\n",
    "rid = schedule.submit(pipeline_name=\"misc\", expid=expid,\n",
    "    priority=1, due_date=None, flush=False)\n",
    "print(rid)\n",
    "# on the master you should see the message."
   ]
  },
  {
   "cell_type": "code",
   "execution_count": null,
   "metadata": {
    "collapsed": true
   },
   "outputs": [],
   "source": []
  }
 ],
 "metadata": {
  "kernelspec": {
   "display_name": "Python 3 (ipykernel)",
   "language": "python",
   "name": "python3"
  },
  "language_info": {
   "codemirror_mode": {
    "name": "ipython",
    "version": 3
   },
   "file_extension": ".py",
   "mimetype": "text/x-python",
   "name": "python",
   "nbconvert_exporter": "python",
   "pygments_lexer": "ipython3",
   "version": "3.12.6"
  }
 },
 "nbformat": 4,
 "nbformat_minor": 0
}
